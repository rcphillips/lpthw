{
 "cells": [
  {
   "cell_type": "markdown",
   "metadata": {},
   "source": [
    "# Lab 1: Nearest Neighbor Regression and Overfitting"
   ]
  },
  {
   "cell_type": "code",
   "execution_count": 3,
   "metadata": {},
   "outputs": [],
   "source": [
    "import numpy as np\n",
    "import pandas as pd\n",
    "import seaborn as sns\n",
    "import matplotlib.pyplot as plt\n",
    "from sklearn.model_selection import LeaveOneOut\n",
    "from sklearn import linear_model, neighbors\n",
    "from pathlib import Path\n",
    "%matplotlib inline\n",
    "plt.style.use('ggplot')\n",
    "sns.set()\n",
    "\n",
    "# Where to save the figures\n",
    "\n",
    "PROJECT_ROOT_DIR = datapath = Path.home() / \"Documents/lpthw/projects/DavisSML_lab1\"\n",
    "datapath = PROJECT_ROOT_DIR / \"data\""
   ]
  },
  {
   "cell_type": "code",
   "execution_count": 5,
   "metadata": {},
   "outputs": [
    {
     "data": {
      "text/plain": [
       "Index(['Air pollution', 'Dwellings without basic facilities',\n",
       "       'Educational attainment', 'Employees working very long hours',\n",
       "       'Employment rate', 'Feeling safe walking alone at night',\n",
       "       'Homicide rate', 'Household net adjusted disposable income',\n",
       "       'Household net financial wealth', 'Housing expenditure',\n",
       "       'Labour market insecurity', 'Life expectancy', 'Life satisfaction',\n",
       "       'Long-term unemployment rate', 'Personal earnings',\n",
       "       'Quality of support network', 'Rooms per person',\n",
       "       'Self-reported health',\n",
       "       'Stakeholder engagement for developing regulations', 'Student skills',\n",
       "       'Time devoted to leisure and personal care', 'Voter turnout',\n",
       "       'Water quality', 'Years in education'],\n",
       "      dtype='object', name='Indicator')"
      ]
     },
     "execution_count": 5,
     "metadata": {},
     "output_type": "execute_result"
    }
   ],
   "source": [
    "oecd_bli = pd.read_csv(datapath / \"oecd_bli_2015.csv\")\n",
    "oecd_bli = oecd_bli[oecd_bli[\"INEQUALITY\"]==\"TOT\"]\n",
    "oecd_bli = oecd_bli.pivot(index=\"Country\", columns=\"Indicator\", values=\"Value\")\n",
    "\n",
    "oecd_bli.columns"
   ]
  },
  {
   "cell_type": "code",
   "execution_count": 6,
   "metadata": {},
   "outputs": [
    {
     "data": {
      "text/plain": [
       "Country\n",
       "Australia    7.3\n",
       "Austria      7.0\n",
       "Belgium      6.9\n",
       "Brazil       6.6\n",
       "Canada       7.3\n",
       "Name: Life satisfaction, dtype: float64"
      ]
     },
     "execution_count": 6,
     "metadata": {},
     "output_type": "execute_result"
    }
   ],
   "source": [
    "oecd_bli[\"Life satisfaction\"].head()"
   ]
  },
  {
   "cell_type": "code",
   "execution_count": 9,
   "metadata": {},
   "outputs": [],
   "source": [
    "gdp_per_capita = pd.read_csv(\n",
    "    datapath / 'gdp_per_capita.csv', \n",
    "    thousands= ',',\n",
    "    delimiter= ',',\n",
    "    encoding= 'latin1',\n",
    "    na_values= 'n/a')\n",
    "gdp_per_capita.rename(columns= {'2015': 'gdp_per_capita'}, inplace= True)"
   ]
  },
  {
   "cell_type": "code",
   "execution_count": 12,
   "metadata": {},
   "outputs": [],
   "source": [
    "gdp_per_capita.set_index('Country', inplace= True)"
   ]
  },
  {
   "cell_type": "code",
   "execution_count": 13,
   "metadata": {
    "collapsed": true
   },
   "outputs": [],
   "source": [
    "full_country_stats = pd.merge(\n",
    "    left= oecd_bli, \n",
    "    right= gdp_per_capita, \n",
    "    left_index= True,\n",
    "    right_index= True)"
   ]
  },
  {
   "cell_type": "code",
   "execution_count": 23,
   "metadata": {},
   "outputs": [],
   "source": [
    "full_country_stats.sort_values(by=\"gdp_per_capita\", inplace = True)"
   ]
  },
  {
   "cell_type": "code",
   "execution_count": 24,
   "metadata": {},
   "outputs": [
    {
     "data": {
      "image/png": "[encoded data removed]",
      "text/plain": [
       "<matplotlib.figure.Figure at 0x11150f4a8>"
      ]
     },
     "metadata": {},
     "output_type": "display_data"
    }
   ],
   "source": [
    "plot1 = full_country_stats.plot(\"gdp_per_capita\",\n",
    "                                \"Life satisfaction\",\n",
    "                                kind = \"scatter\")"
   ]
  },
  {
   "cell_type": "code",
   "execution_count": 28,
   "metadata": {
    "collapsed": true
   },
   "outputs": [],
   "source": [
    "xvars = ['Self-reported health', \n",
    "         'Water quality', \n",
    "         'Quality of support network',\n",
    "         'gdp_per_capita']"
   ]
  },
  {
   "cell_type": "code",
   "execution_count": 29,
   "metadata": {},
   "outputs": [],
   "source": [
    "X = np.array(full_country_stats[xvars])"
   ]
  },
  {
   "cell_type": "code",
   "execution_count": 30,
   "metadata": {
    "collapsed": true
   },
   "outputs": [],
   "source": [
    "y = np.array(full_country_stats['Life satisfaction'])"
   ]
  },
  {
   "cell_type": "code",
   "execution_count": 37,
   "metadata": {
    "collapsed": true
   },
   "outputs": [],
   "source": [
    "def loo_risk(X, y, regmod):\n",
    "    \"\"\" Construct the leave-one-out square error risk for a regression model\n",
    "    \n",
    "    Input: design matrix, X, response vector, y, regression model, regmod\n",
    "    Output: scalar LOO risk\n",
    "    \"\"\"\n",
    "    loo = LeaveOneOut()\n",
    "    #loo.get_n_splits(X)\n",
    "    loo_losses = []\n",
    "    for train_index, test_index in loo.split(X):\n",
    "        X_train, X_test = X[train_index], X[test_index]\n",
    "        y_train, y_test = y[train_index], y[test_index]\n",
    "        regmod.fit(X_train, y_train)\n",
    "        y_hat = regmod.predict(X_test)\n",
    "        loss = np.sum((y_hat - y_test)**2)\n",
    "        loo_losses.append(loss)\n",
    "    return np.mean(loo_losses)\n",
    "\n",
    "\n",
    "def emp_risk(X, y, regmod):\n",
    "    \"\"\"\n",
    "    Return the empirical risk for square error loss\n",
    "    \n",
    "    Input: design matrix, X, response vector, y, regression model, regmod\n",
    "    Output: scalar empirical risk\n",
    "    \"\"\"\n",
    "    regmod.fit(X, y)\n",
    "    y_hat = regmod.predict(X)\n",
    "    return np.mean((y_hat - y)**2)"
   ]
  },
  {
   "cell_type": "code",
   "execution_count": 38,
   "metadata": {},
   "outputs": [
    {
     "name": "stdout",
     "output_type": "stream",
     "text": [
      "LOO Risk: 0.2950471135885104\n",
      "Emp Risk: 0.22168789146095652\n"
     ]
    }
   ],
   "source": [
    "lin1 = linear_model.LinearRegression(fit_intercept=False)\n",
    "print('LOO Risk: ' + str(loo_risk(X, y, lin1)))\n",
    "print('Emp Risk: ' + str(emp_risk(X, y, lin1)))"
   ]
  },
  {
   "cell_type": "code",
   "execution_count": 132,
   "metadata": {
    "collapsed": true
   },
   "outputs": [],
   "source": [
    "loo_risks = []\n",
    "emp_risks = []\n",
    "k_counter=list(range(1,31))\n",
    "for i in k_counter:\n",
    "    knnmod = neighbors.KNeighborsRegressor(n_neighbors=i)\n",
    "    loo_risks.append(loo_risk(X, y, knnmod))\n",
    "    emp_risks.append(emp_risk(X, y, knnmod))"
   ]
  },
  {
   "cell_type": "code",
   "execution_count": 133,
   "metadata": {},
   "outputs": [],
   "source": [
    "my_array=np.concatenate(([loo_risks],[emp_risks]))"
   ]
  },
  {
   "cell_type": "code",
   "execution_count": 134,
   "metadata": {},
   "outputs": [],
   "source": [
    "my_df=pd.DataFrame(data=my_array.T, columns=[\"loo_risks\", \"emp_risks\"], index=k_counter)"
   ]
  },
  {
   "cell_type": "code",
   "execution_count": 136,
   "metadata": {},
   "outputs": [
    {
     "data": {
      "text/plain": [
       "<matplotlib.axes._subplots.AxesSubplot at 0x1166e1518>"
      ]
     },
     "execution_count": 136,
     "metadata": {},
     "output_type": "execute_result"
    },
    {
     "data": {
      "image/png": "[encoded data removed]",
      "text/plain": [
       "<matplotlib.figure.Figure at 0x1167b8390>"
      ]
     },
     "metadata": {},
     "output_type": "display_data"
    }
   ],
   "source": [
    "my_df.plot()"
   ]
  },
  {
   "cell_type": "code",
   "execution_count": 138,
   "metadata": {
    "collapsed": true
   },
   "outputs": [],
   "source": [
    "xvars2 = ['Self-reported health']\n",
    "X = np.array(full_country_stats[xvars2])"
   ]
  },
  {
   "cell_type": "code",
   "execution_count": 139,
   "metadata": {},
   "outputs": [
    {
     "data": {
      "text/plain": [
       "<matplotlib.axes._subplots.AxesSubplot at 0x1170fffd0>"
      ]
     },
     "execution_count": 139,
     "metadata": {},
     "output_type": "execute_result"
    },
    {
     "data": {
      "image/png": "[encoded data removed]",
      "text/plain": [
       "<matplotlib.figure.Figure at 0x1170ff7b8>"
      ]
     },
     "metadata": {},
     "output_type": "display_data"
    }
   ],
   "source": [
    "loo_risks = []\n",
    "emp_risks = []\n",
    "k_counter=list(range(1,31))\n",
    "for i in k_counter:\n",
    "    knnmod = neighbors.KNeighborsRegressor(n_neighbors=i)\n",
    "    loo_risks.append(loo_risk(X, y, knnmod))\n",
    "    emp_risks.append(emp_risk(X, y, knnmod))\n",
    "my_array=np.concatenate(([loo_risks],[emp_risks]))\n",
    "my_df=pd.DataFrame(data=my_array.T, columns=[\"loo_risks\", \"emp_risks\"], index=k_counter)\n",
    "my_df.plot()"
   ]
  },
  {
   "cell_type": "code",
   "execution_count": null,
   "metadata": {
    "collapsed": true
   },
   "outputs": [],
   "source": []
  }
 ],
 "metadata": {
  "kernelspec": {
   "display_name": "Python 3",
   "language": "python",
   "name": "python3"
  },
  "language_info": {
   "codemirror_mode": {
    "name": "ipython",
    "version": 3
   },
   "file_extension": ".py",
   "mimetype": "text/x-python",
   "name": "python",
   "nbconvert_exporter": "python",
   "pygments_lexer": "ipython3",
   "version": "3.5.0"
  }
 },
 "nbformat": 4,
 "nbformat_minor": 2
}
